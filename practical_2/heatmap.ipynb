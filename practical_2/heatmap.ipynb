{
 "cells": [
  {
   "cell_type": "code",
   "execution_count": 6,
   "id": "e0443298",
   "metadata": {},
   "outputs": [],
   "source": [
    "from math import log\n",
    "import numpy as np\n",
    "import json\n",
    "import matplotlib\n",
    "import matplotlib as mpl\n",
    "import matplotlib.pyplot as plt"
   ]
  },
  {
   "cell_type": "code",
   "execution_count": 7,
   "id": "8f3dd13c",
   "metadata": {},
   "outputs": [],
   "source": [
    "# beam search\n",
    "def beam_search_decoder(data, k):\n",
    "    sequences = [[list(), 0.0]]\n",
    "    # walk over each step in sequence\n",
    "\n",
    "    max_T, max_A = data.shape\n",
    "\n",
    "    # Loop over time\n",
    "    for t in range(max_T):\n",
    "        all_candidates = list()\n",
    "        # expand each current candidate\n",
    "        for i in range(len(sequences)):\n",
    "            seq, score = sequences[i]\n",
    "            # Loop over possible alphabet outputs\n",
    "            for c in range(max_A - 1):\n",
    "                candidate = [seq + [c], score - log(data[t, c])]\n",
    "                all_candidates.append(candidate)\n",
    "        # order all candidates by score\n",
    "        ordered = sorted(all_candidates, key=lambda tup:tup[1])\n",
    "        # select k best\n",
    "        sequences = ordered[:k]\n",
    "    return sequences\n"
   ]
  },
  {
   "cell_type": "code",
   "execution_count": 8,
   "id": "9ec20f63",
   "metadata": {},
   "outputs": [],
   "source": [
    "def decode(string):\n",
    "    new_list = []\n",
    "    new_list.append(string[0])\n",
    "    for char in string:\n",
    "        if char == new_list[-1]:\n",
    "            continue\n",
    "        else:\n",
    "            new_list.append(char)\n",
    "    return new_list"
   ]
  },
  {
   "cell_type": "code",
   "execution_count": 9,
   "id": "26ea3c1a",
   "metadata": {},
   "outputs": [],
   "source": [
    "with open('output.json') as file:\n",
    "    data = json.load(file)\n",
    "    data = data[\"logits\"]\n",
    "data = np.array(data)\n",
    "beam_width = 25\n",
    "\n",
    "dict = {0: \" \",1: \"a\",2: \"b\",3: \"c\",4: \"d\",5: \"e\",6: \"f\",7: \"g\",8: \"h\",9: \"i\",10: \"j\",11: \"k\",12: \"l\",13: \"m\",14: \"n\",15: \"o\",16: \"p\",17: \"q\",18: \"r\",19: \"s\",20: \"t\",21: \"u\",22: \"v\",23: \"w\",24: \"x\",25: \"y\",26: \"z\",27: \"'\"}\n"
   ]
  },
  {
   "cell_type": "code",
   "execution_count": 10,
   "id": "f8c0ecc3",
   "metadata": {},
   "outputs": [
    {
     "name": "stdout",
     "output_type": "stream",
     "text": [
      "0 [[23, 23, 5, 0, 0, 0, 0, 13, 21, 19, 19, 20, 20, 19, 15, 9, 19, 0, 0, 0, 0, 6, 6, 9, 9, 9, 14, 4, 4, 0, 0, 0, 0, 0, 0, 1, 0, 0, 0, 14, 14, 5, 5, 23, 23, 15, 15, 15, 15, 15, 19, 5, 0, 0, 0, 20, 8, 8, 8, 15, 12, 13, 5, 5, 0, 0, 0, 0, 0, 0, 9, 14, 0, 0, 0, 0, 0, 0, 20, 8, 5, 0, 0, 0, 0, 19, 19, 19, 19, 19, 19, 20, 20, 20, 20, 19, 19, 19, 1, 18, 18, 18, 18, 18, 0, 5, 19], 303.1137501458976]\n",
      "we mustsois find a newose tholme in the stsar es\n",
      "\n",
      "1 [[23, 23, 5, 0, 0, 0, 0, 13, 21, 19, 19, 20, 20, 19, 15, 9, 19, 0, 0, 0, 0, 6, 6, 9, 9, 9, 14, 4, 4, 0, 0, 0, 0, 0, 0, 1, 0, 0, 0, 14, 14, 5, 5, 23, 23, 15, 15, 15, 15, 15, 19, 19, 0, 0, 0, 20, 8, 8, 8, 15, 12, 13, 5, 5, 0, 0, 0, 0, 0, 0, 9, 14, 0, 0, 0, 0, 0, 0, 20, 8, 5, 0, 0, 0, 0, 19, 19, 19, 19, 19, 19, 20, 20, 20, 20, 19, 19, 19, 1, 18, 18, 18, 18, 18, 0, 5, 19], 303.1270192224234]\n",
      "we mustsois find a newos tholme in the stsar es\n",
      "\n",
      "2 [[23, 23, 5, 0, 0, 0, 0, 13, 21, 19, 19, 20, 20, 19, 15, 9, 19, 0, 0, 0, 0, 6, 6, 9, 9, 9, 14, 4, 4, 0, 0, 0, 0, 0, 0, 1, 0, 0, 0, 14, 14, 5, 5, 23, 23, 15, 15, 15, 15, 15, 19, 5, 0, 0, 0, 20, 8, 8, 8, 15, 12, 13, 5, 5, 0, 0, 0, 0, 0, 0, 9, 14, 0, 0, 0, 0, 0, 0, 20, 8, 5, 0, 0, 0, 0, 19, 19, 19, 19, 19, 19, 20, 20, 20, 20, 19, 19, 19, 1, 18, 18, 18, 18, 18, 0, 15, 19], 303.14021183600187]\n",
      "we mustsois find a newose tholme in the stsar os\n",
      "\n",
      "3 [[23, 23, 5, 0, 0, 0, 0, 13, 21, 19, 19, 20, 20, 19, 15, 9, 19, 0, 0, 0, 0, 6, 6, 9, 9, 9, 14, 4, 4, 0, 0, 0, 0, 0, 0, 1, 0, 0, 0, 14, 14, 5, 5, 23, 23, 15, 15, 15, 15, 15, 19, 5, 0, 0, 0, 20, 8, 8, 8, 15, 12, 13, 5, 5, 0, 0, 0, 0, 0, 0, 9, 14, 0, 0, 0, 0, 0, 0, 20, 8, 5, 0, 0, 0, 0, 19, 19, 19, 19, 19, 19, 20, 20, 20, 20, 19, 19, 19, 1, 18, 18, 18, 18, 18, 18, 5, 19], 303.1425737456272]\n",
      "we mustsois find a newose tholme in the stsares\n",
      "\n",
      "4 [[23, 23, 5, 0, 0, 0, 0, 13, 21, 19, 19, 20, 20, 19, 15, 9, 19, 0, 0, 0, 0, 6, 6, 9, 9, 9, 14, 4, 4, 0, 0, 0, 0, 0, 0, 1, 0, 0, 0, 14, 14, 5, 5, 23, 23, 15, 15, 15, 15, 15, 19, 19, 0, 0, 0, 20, 8, 8, 8, 15, 12, 13, 5, 5, 0, 0, 0, 0, 0, 0, 9, 14, 0, 0, 0, 0, 0, 0, 20, 8, 5, 0, 0, 0, 0, 19, 19, 19, 19, 19, 19, 20, 20, 20, 20, 19, 19, 19, 1, 18, 18, 18, 18, 18, 0, 15, 19], 303.1534809125277]\n",
      "we mustsois find a newos tholme in the stsar os\n",
      "\n",
      "5 [[23, 23, 5, 0, 0, 0, 0, 13, 21, 19, 19, 20, 20, 19, 15, 9, 19, 0, 0, 0, 0, 6, 6, 9, 9, 9, 14, 4, 4, 0, 0, 0, 0, 0, 0, 1, 0, 0, 0, 14, 14, 5, 5, 23, 23, 15, 15, 15, 15, 15, 5, 5, 0, 0, 0, 20, 8, 8, 8, 15, 12, 13, 5, 5, 0, 0, 0, 0, 0, 0, 9, 14, 0, 0, 0, 0, 0, 0, 20, 8, 5, 0, 0, 0, 0, 19, 19, 19, 19, 19, 19, 20, 20, 20, 20, 19, 19, 19, 1, 18, 18, 18, 18, 18, 0, 5, 19], 303.1535181456399]\n",
      "we mustsois find a newoe tholme in the stsar es\n",
      "\n",
      "6 [[23, 23, 5, 0, 0, 0, 0, 13, 21, 19, 19, 20, 20, 19, 15, 9, 19, 0, 0, 0, 0, 6, 6, 9, 9, 9, 14, 4, 4, 0, 0, 0, 0, 0, 0, 1, 0, 0, 0, 14, 14, 5, 5, 23, 23, 15, 15, 15, 15, 15, 19, 19, 0, 0, 0, 20, 8, 8, 8, 15, 12, 13, 5, 5, 0, 0, 0, 0, 0, 0, 9, 14, 0, 0, 0, 0, 0, 0, 20, 8, 5, 0, 0, 0, 0, 19, 19, 19, 19, 19, 19, 20, 20, 20, 20, 19, 19, 19, 1, 18, 18, 18, 18, 18, 18, 5, 19], 303.15584282215303]\n",
      "we mustsois find a newos tholme in the stsares\n",
      "\n",
      "7 [[23, 23, 5, 0, 0, 0, 0, 13, 21, 19, 19, 20, 20, 19, 15, 9, 19, 0, 0, 0, 0, 6, 6, 9, 9, 9, 14, 4, 4, 0, 0, 0, 0, 0, 0, 1, 0, 0, 0, 14, 14, 5, 5, 23, 23, 15, 15, 15, 15, 15, 5, 19, 0, 0, 0, 20, 8, 8, 8, 15, 12, 13, 5, 5, 0, 0, 0, 0, 0, 0, 9, 14, 0, 0, 0, 0, 0, 0, 20, 8, 5, 0, 0, 0, 0, 19, 19, 19, 19, 19, 19, 20, 20, 20, 20, 19, 19, 19, 1, 18, 18, 18, 18, 18, 0, 5, 19], 303.1667872221657]\n",
      "we mustsois find a newoes tholme in the stsar es\n",
      "\n",
      "8 [[23, 23, 5, 0, 0, 0, 0, 13, 21, 19, 19, 20, 20, 19, 15, 9, 19, 0, 0, 0, 0, 6, 6, 9, 9, 9, 14, 4, 4, 0, 0, 0, 0, 0, 0, 1, 0, 0, 0, 14, 14, 5, 5, 23, 23, 15, 15, 15, 15, 15, 19, 5, 0, 0, 0, 20, 8, 8, 8, 15, 12, 13, 5, 5, 0, 0, 0, 0, 0, 0, 9, 14, 0, 0, 0, 0, 0, 0, 20, 8, 5, 0, 0, 0, 0, 19, 19, 19, 19, 19, 19, 20, 20, 20, 20, 19, 19, 19, 1, 18, 18, 18, 18, 18, 18, 15, 19], 303.1690354357315]\n",
      "we mustsois find a newose tholme in the stsaros\n",
      "\n",
      "9 [[23, 23, 5, 0, 0, 0, 0, 13, 21, 19, 19, 20, 20, 19, 15, 9, 19, 0, 0, 0, 0, 6, 6, 9, 9, 9, 14, 4, 4, 0, 0, 0, 0, 0, 0, 1, 0, 0, 0, 14, 14, 5, 5, 23, 23, 15, 15, 15, 15, 15, 5, 5, 0, 0, 0, 20, 8, 8, 8, 15, 12, 13, 5, 5, 0, 0, 0, 0, 0, 0, 9, 14, 0, 0, 0, 0, 0, 0, 20, 8, 5, 0, 0, 0, 0, 19, 19, 19, 19, 19, 19, 20, 20, 20, 20, 19, 19, 19, 1, 18, 18, 18, 18, 18, 0, 15, 19], 303.1799798357442]\n",
      "we mustsois find a newoe tholme in the stsar os\n",
      "\n",
      "10 [[23, 23, 5, 0, 0, 0, 0, 13, 21, 19, 19, 20, 20, 19, 15, 9, 19, 0, 0, 0, 0, 6, 6, 9, 9, 9, 14, 4, 4, 0, 0, 0, 0, 0, 0, 1, 0, 0, 0, 14, 14, 5, 5, 23, 23, 15, 15, 15, 15, 15, 19, 19, 0, 0, 0, 20, 8, 8, 8, 15, 12, 13, 5, 5, 0, 0, 0, 0, 0, 0, 9, 14, 0, 0, 0, 0, 0, 0, 20, 8, 5, 0, 0, 0, 0, 19, 19, 19, 19, 19, 19, 20, 20, 20, 20, 19, 19, 19, 1, 18, 18, 18, 18, 18, 18, 15, 19], 303.1823045122573]\n",
      "we mustsois find a newos tholme in the stsaros\n",
      "\n",
      "11 [[23, 23, 5, 0, 0, 0, 0, 13, 21, 19, 19, 20, 20, 19, 15, 9, 19, 0, 0, 0, 0, 6, 6, 9, 9, 9, 14, 4, 4, 0, 0, 0, 0, 0, 0, 1, 0, 0, 0, 14, 14, 5, 5, 23, 23, 15, 15, 15, 15, 15, 5, 5, 0, 0, 0, 20, 8, 8, 8, 15, 12, 13, 5, 5, 0, 0, 0, 0, 0, 0, 9, 14, 0, 0, 0, 0, 0, 0, 20, 8, 5, 0, 0, 0, 0, 19, 19, 19, 19, 19, 19, 20, 20, 20, 20, 19, 19, 19, 1, 18, 18, 18, 18, 18, 18, 5, 19], 303.1823417453695]\n",
      "we mustsois find a newoe tholme in the stsares\n",
      "\n",
      "12 [[23, 23, 5, 0, 0, 0, 0, 13, 21, 19, 19, 20, 20, 19, 15, 9, 19, 0, 0, 0, 0, 6, 6, 9, 9, 9, 14, 4, 4, 0, 0, 0, 0, 0, 0, 1, 0, 0, 0, 14, 14, 5, 5, 23, 23, 15, 15, 15, 15, 15, 5, 19, 0, 0, 0, 20, 8, 8, 8, 15, 12, 13, 5, 5, 0, 0, 0, 0, 0, 0, 9, 14, 0, 0, 0, 0, 0, 0, 20, 8, 5, 0, 0, 0, 0, 19, 19, 19, 19, 19, 19, 20, 20, 20, 20, 19, 19, 19, 1, 18, 18, 18, 18, 18, 0, 15, 19], 303.19324891226995]\n",
      "we mustsois find a newoes tholme in the stsar os\n",
      "\n",
      "13 [[23, 23, 5, 0, 0, 0, 0, 13, 21, 19, 19, 20, 20, 19, 15, 9, 19, 0, 0, 0, 0, 6, 6, 9, 9, 9, 14, 4, 4, 0, 0, 0, 0, 0, 0, 1, 0, 0, 0, 14, 14, 5, 5, 23, 23, 15, 15, 15, 15, 15, 5, 19, 0, 0, 0, 20, 8, 8, 8, 15, 12, 13, 5, 5, 0, 0, 0, 0, 0, 0, 9, 14, 0, 0, 0, 0, 0, 0, 20, 8, 5, 0, 0, 0, 0, 19, 19, 19, 19, 19, 19, 20, 20, 20, 20, 19, 19, 19, 1, 18, 18, 18, 18, 18, 18, 5, 19], 303.1956108218953]\n",
      "we mustsois find a newoes tholme in the stsares\n",
      "\n",
      "14 [[23, 23, 5, 0, 0, 0, 0, 13, 21, 19, 19, 20, 20, 19, 15, 19, 19, 0, 0, 0, 0, 6, 6, 9, 9, 9, 14, 4, 4, 0, 0, 0, 0, 0, 0, 1, 0, 0, 0, 14, 14, 5, 5, 23, 23, 15, 15, 15, 15, 15, 19, 5, 0, 0, 0, 20, 8, 8, 8, 15, 12, 13, 5, 5, 0, 0, 0, 0, 0, 0, 9, 14, 0, 0, 0, 0, 0, 0, 20, 8, 5, 0, 0, 0, 0, 19, 19, 19, 19, 19, 19, 20, 20, 20, 20, 19, 19, 19, 1, 18, 18, 18, 18, 18, 0, 5, 19], 303.20520432945864]\n",
      "we mustsos find a newose tholme in the stsar es\n",
      "\n",
      "15 [[23, 23, 5, 0, 0, 0, 0, 13, 21, 19, 19, 20, 20, 19, 15, 9, 19, 0, 0, 0, 0, 6, 6, 9, 9, 9, 14, 4, 4, 0, 0, 0, 0, 0, 0, 1, 0, 0, 0, 14, 14, 5, 5, 23, 23, 15, 15, 15, 15, 15, 5, 5, 0, 0, 0, 20, 8, 8, 8, 15, 12, 13, 5, 5, 0, 0, 0, 0, 0, 0, 9, 14, 0, 0, 0, 0, 0, 0, 20, 8, 5, 0, 0, 0, 0, 19, 19, 19, 19, 19, 19, 20, 20, 20, 20, 19, 19, 19, 1, 18, 18, 18, 18, 18, 18, 15, 19], 303.2088034354738]\n",
      "we mustsois find a newoe tholme in the stsaros\n",
      "\n",
      "16 [[23, 23, 5, 0, 0, 0, 0, 13, 21, 19, 19, 20, 20, 19, 15, 19, 19, 0, 0, 0, 0, 6, 6, 9, 9, 9, 14, 4, 4, 0, 0, 0, 0, 0, 0, 1, 0, 0, 0, 14, 14, 5, 5, 23, 23, 15, 15, 15, 15, 15, 19, 19, 0, 0, 0, 20, 8, 8, 8, 15, 12, 13, 5, 5, 0, 0, 0, 0, 0, 0, 9, 14, 0, 0, 0, 0, 0, 0, 20, 8, 5, 0, 0, 0, 0, 19, 19, 19, 19, 19, 19, 20, 20, 20, 20, 19, 19, 19, 1, 18, 18, 18, 18, 18, 0, 5, 19], 303.21847340598447]\n",
      "we mustsos find a newos tholme in the stsar es\n",
      "\n",
      "17 [[23, 23, 5, 0, 0, 0, 0, 13, 21, 19, 19, 20, 20, 19, 15, 9, 19, 0, 0, 0, 0, 6, 6, 9, 9, 9, 14, 4, 4, 0, 0, 0, 0, 0, 0, 1, 0, 0, 0, 14, 14, 5, 5, 23, 23, 15, 15, 15, 15, 15, 5, 19, 0, 0, 0, 20, 8, 8, 8, 15, 12, 13, 5, 5, 0, 0, 0, 0, 0, 0, 9, 14, 0, 0, 0, 0, 0, 0, 20, 8, 5, 0, 0, 0, 0, 19, 19, 19, 19, 19, 19, 20, 20, 20, 20, 19, 19, 19, 1, 18, 18, 18, 18, 18, 18, 15, 19], 303.22207251199956]\n",
      "we mustsois find a newoes tholme in the stsaros\n",
      "\n",
      "18 [[23, 23, 5, 0, 0, 0, 0, 13, 21, 19, 19, 20, 20, 19, 15, 19, 19, 0, 0, 0, 0, 6, 6, 9, 9, 9, 14, 4, 4, 0, 0, 0, 0, 0, 0, 1, 0, 0, 0, 14, 14, 5, 5, 23, 23, 15, 15, 15, 15, 15, 19, 5, 0, 0, 0, 20, 8, 8, 8, 15, 12, 13, 5, 5, 0, 0, 0, 0, 0, 0, 9, 14, 0, 0, 0, 0, 0, 0, 20, 8, 5, 0, 0, 0, 0, 19, 19, 19, 19, 19, 19, 20, 20, 20, 20, 19, 19, 19, 1, 18, 18, 18, 18, 18, 0, 15, 19], 303.2316660195629]\n",
      "we mustsos find a newose tholme in the stsar os\n",
      "\n",
      "19 [[23, 23, 5, 0, 0, 0, 0, 13, 21, 19, 19, 20, 20, 19, 15, 19, 19, 0, 0, 0, 0, 6, 6, 9, 9, 9, 14, 4, 4, 0, 0, 0, 0, 0, 0, 1, 0, 0, 0, 14, 14, 5, 5, 23, 23, 15, 15, 15, 15, 15, 19, 5, 0, 0, 0, 20, 8, 8, 8, 15, 12, 13, 5, 5, 0, 0, 0, 0, 0, 0, 9, 14, 0, 0, 0, 0, 0, 0, 20, 8, 5, 0, 0, 0, 0, 19, 19, 19, 19, 19, 19, 20, 20, 20, 20, 19, 19, 19, 1, 18, 18, 18, 18, 18, 18, 5, 19], 303.23402792918824]\n",
      "we mustsos find a newose tholme in the stsares\n",
      "\n",
      "20 [[23, 23, 5, 0, 0, 0, 0, 13, 21, 19, 19, 20, 20, 19, 15, 9, 19, 0, 0, 0, 0, 6, 6, 9, 9, 9, 14, 4, 4, 0, 0, 0, 0, 0, 0, 1, 0, 0, 0, 14, 14, 5, 5, 23, 23, 15, 15, 15, 15, 15, 19, 5, 0, 0, 0, 20, 8, 8, 8, 15, 12, 13, 5, 5, 0, 0, 0, 0, 0, 0, 9, 14, 0, 0, 0, 0, 0, 0, 20, 8, 5, 0, 0, 0, 0, 19, 19, 19, 19, 19, 19, 20, 20, 20, 20, 19, 19, 19, 1, 18, 18, 18, 18, 18, 0, 18, 19], 303.24159908354926]\n",
      "we mustsois find a newose tholme in the stsar rs\n",
      "\n",
      "21 [[23, 23, 5, 0, 0, 0, 0, 13, 21, 19, 19, 20, 20, 19, 15, 19, 19, 0, 0, 0, 0, 6, 6, 9, 9, 9, 14, 4, 4, 0, 0, 0, 0, 0, 0, 1, 0, 0, 0, 14, 14, 5, 5, 23, 23, 15, 15, 15, 15, 15, 19, 19, 0, 0, 0, 20, 8, 8, 8, 15, 12, 13, 5, 5, 0, 0, 0, 0, 0, 0, 9, 14, 0, 0, 0, 0, 0, 0, 20, 8, 5, 0, 0, 0, 0, 19, 19, 19, 19, 19, 19, 20, 20, 20, 20, 19, 19, 19, 1, 18, 18, 18, 18, 18, 0, 15, 19], 303.24493509608874]\n",
      "we mustsos find a newos tholme in the stsar os\n",
      "\n",
      "22 [[23, 23, 5, 0, 0, 0, 0, 13, 21, 19, 19, 20, 20, 19, 15, 19, 19, 0, 0, 0, 0, 6, 6, 9, 9, 9, 14, 4, 4, 0, 0, 0, 0, 0, 0, 1, 0, 0, 0, 14, 14, 5, 5, 23, 23, 15, 15, 15, 15, 15, 5, 5, 0, 0, 0, 20, 8, 8, 8, 15, 12, 13, 5, 5, 0, 0, 0, 0, 0, 0, 9, 14, 0, 0, 0, 0, 0, 0, 20, 8, 5, 0, 0, 0, 0, 19, 19, 19, 19, 19, 19, 20, 20, 20, 20, 19, 19, 19, 1, 18, 18, 18, 18, 18, 0, 5, 19], 303.24497232920095]\n",
      "we mustsos find a newoe tholme in the stsar es\n",
      "\n",
      "23 [[23, 23, 5, 0, 0, 0, 0, 13, 21, 19, 19, 20, 20, 19, 15, 19, 19, 0, 0, 0, 0, 6, 6, 9, 9, 9, 14, 4, 4, 0, 0, 0, 0, 0, 0, 1, 0, 0, 0, 14, 14, 5, 5, 23, 23, 15, 15, 15, 15, 15, 19, 19, 0, 0, 0, 20, 8, 8, 8, 15, 12, 13, 5, 5, 0, 0, 0, 0, 0, 0, 9, 14, 0, 0, 0, 0, 0, 0, 20, 8, 5, 0, 0, 0, 0, 19, 19, 19, 19, 19, 19, 20, 20, 20, 20, 19, 19, 19, 1, 18, 18, 18, 18, 18, 18, 5, 19], 303.2472970057141]\n",
      "we mustsos find a newos tholme in the stsares\n",
      "\n",
      "24 [[23, 23, 5, 21, 0, 0, 0, 13, 21, 19, 19, 20, 20, 19, 15, 9, 19, 0, 0, 0, 0, 6, 6, 9, 9, 9, 14, 4, 4, 0, 0, 0, 0, 0, 0, 1, 0, 0, 0, 14, 14, 5, 5, 23, 23, 15, 15, 15, 15, 15, 19, 5, 0, 0, 0, 20, 8, 8, 8, 15, 12, 13, 5, 5, 0, 0, 0, 0, 0, 0, 9, 14, 0, 0, 0, 0, 0, 0, 20, 8, 5, 0, 0, 0, 0, 19, 19, 19, 19, 19, 19, 20, 20, 20, 20, 19, 19, 19, 1, 18, 18, 18, 18, 18, 0, 5, 19], 303.2504411425975]\n",
      "weu mustsois find a newose tholme in the stsar es\n",
      "\n"
     ]
    }
   ],
   "source": [
    "# decode sequence\n",
    "result = beam_search_decoder(data, beam_width)\n",
    "\n",
    "# print result\n",
    "for i, seq in enumerate(result):\n",
    "    print(i, seq)\n",
    "    sequence = seq[0]\n",
    "    sequence = decode(sequence)\n",
    "    prob = seq[1]\n",
    "    for k in sequence:\n",
    "        print(dict[k], end='')\n",
    "    print()\n",
    "    print()"
   ]
  },
  {
   "cell_type": "code",
   "execution_count": 11,
   "id": "a9161727",
   "metadata": {},
   "outputs": [
    {
     "data": {
      "image/png": "[encoded data removed]",
      "text/plain": [
       "<Figure size 640x480 with 1 Axes>"
      ]
     },
     "metadata": {},
     "output_type": "display_data"
    }
   ],
   "source": [
    "# produce heatmap\n",
    "fig, ax = plt.subplots()\n",
    "im = ax.imshow(data)\n",
    "\n",
    "fig.tight_layout()\n",
    "plt.show()"
   ]
  },
  {
   "cell_type": "code",
   "execution_count": null,
   "id": "1246eec6",
   "metadata": {},
   "outputs": [],
   "source": []
  }
 ],
 "metadata": {
  "kernelspec": {
   "display_name": "Python 3 (ipykernel)",
   "language": "python",
   "name": "python3"
  },
  "language_info": {
   "codemirror_mode": {
    "name": "ipython",
    "version": 3
   },
   "file_extension": ".py",
   "mimetype": "text/x-python",
   "name": "python",
   "nbconvert_exporter": "python",
   "pygments_lexer": "ipython3",
   "version": "3.9.2"
  }
 },
 "nbformat": 4,
 "nbformat_minor": 5
}
