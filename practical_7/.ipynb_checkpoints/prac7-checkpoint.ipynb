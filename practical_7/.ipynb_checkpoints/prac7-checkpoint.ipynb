{
 "cells": [
  {
   "cell_type": "code",
   "execution_count": 42,
   "id": "18a6fe27",
   "metadata": {},
   "outputs": [],
   "source": [
    "import numpy as np\n",
    "from sklearn.datasets import load_digits\n",
    "import pandas as pd"
   ]
  },
  {
   "cell_type": "code",
   "execution_count": 2,
   "id": "9bd849d1",
   "metadata": {},
   "outputs": [],
   "source": [
    "def sigmoid(z):\n",
    "    return 1./(1. + np.exp(-z))\n",
    "\n",
    "class NeuralNetwork:\n",
    "    def __init__(self, input_dim=2, hidden_dim=2, output_dim=2):\n",
    "        self.W = 0.1 * np.random.rand(input_dim, hidden_dim)\n",
    "        self.V = 0.1 * np.random.rand(hidden_dim, output_dim)\n",
    "                \n",
    "    # expects X to be a (n X input_dim) matrix\n",
    "    def forward(self, X):\n",
    "        self.X = X # keep for backward pass \n",
    "        \n",
    "        self.H_in = np.dot(X, self.W)\n",
    "        self.H = sigmoid(self.H_in)\n",
    "        # ---- \n",
    "        self.Y_in = np.dot(self.H, self.V)\n",
    "        self.Y = sigmoid(self.Y_in)\n",
    "        return self.Y\n",
    "    \n",
    "    # expects T to be a (n X output_dim) matrix \n",
    "    def backward(self, T):\n",
    "        E = self.Y - T \n",
    "        E_sq = E**2\n",
    "        self.L = np.sum(E_sq, axis=1, keepdims=True)\n",
    "        grad_Y = 2*E\n",
    "        \n",
    "        # -----\n",
    "        grad_Y_in = (self.Y) * (1-self.Y) * grad_Y # sigmoid\n",
    "        grad_V = np.dot(self.H.T, grad_Y_in) # outer product\n",
    "        grad_H = np.dot(grad_Y_in, self.V.T)\n",
    "        \n",
    "        # -----\n",
    "        grad_H_in = (self.H * (1.-self.H))*grad_H # sigmoid\n",
    "        grad_W = np.dot(self.X.T, grad_H_in) # outer product\n",
    "        return grad_W, grad_V"
   ]
  },
  {
   "cell_type": "code",
   "execution_count": 30,
   "id": "b70b5f70",
   "metadata": {},
   "outputs": [],
   "source": [
    "net = NeuralNetwork()\n",
    "\n",
    "W = np.array([[6., -3.], [-2., 5.]])\n",
    "V = np.array([[1., -2.], [0.25, 2.]])"
   ]
  },
  {
   "cell_type": "code",
   "execution_count": 39,
   "id": "7516294c",
   "metadata": {},
   "outputs": [],
   "source": [
    "mnist = load_digits()"
   ]
  },
  {
   "cell_type": "code",
   "execution_count": 48,
   "id": "d8630da9",
   "metadata": {},
   "outputs": [],
   "source": [
    "train_X  = np.array(mnist.data)\n",
    "train_T = np.array(mnist.target)"
   ]
  },
  {
   "cell_type": "code",
   "execution_count": 54,
   "id": "4264e82a",
   "metadata": {},
   "outputs": [],
   "source": [
    "len(train_X[0])\n",
    "for row in train_X:\n",
    "    one = np.average(row[0:31])\n",
    "    two = np.average(row[32:64])"
   ]
  },
  {
   "cell_type": "code",
   "execution_count": 31,
   "id": "4ef74f2d",
   "metadata": {},
   "outputs": [],
   "source": [
    "# iterate for 200 epochs\n",
    "train_X = np.array( [[3., 1. ], [-1., 4.]])\n",
    "train_T = np.array( [[1., 0. ], [0., 1.]])\n",
    "\n",
    "n_epochs = 100\n",
    "alpha = 0.5\n",
    "\n",
    "for n in range(n_epochs):\n",
    "    # grad_W\n",
    "    grad_W = np.zeros_like(net.W)\n",
    "    grad_V = np.zeros_like(net.V)\n",
    "    for i in range(train_X.shape[0]):\n",
    "        X = train_X[i, :].reshape(1,-1)\n",
    "        T = train_T[i, :].reshape(1,-1)\n",
    "        \n",
    "        net.forward(X)\n",
    "        grad_W_i, grad_V_i = net.backward(T)\n",
    "        grad_W += grad_W_i\n",
    "        grad_V += grad_V_i\n",
    "    \n",
    "    # apply gradient \n",
    "    net.W -= alpha * grad_W\n",
    "    net.V -= alpha * grad_V"
   ]
  },
  {
   "cell_type": "code",
   "execution_count": 32,
   "id": "e52b080a",
   "metadata": {},
   "outputs": [
    {
     "name": "stdout",
     "output_type": "stream",
     "text": [
      "[0.90933916 0.09069354]\n",
      "[0.09375718 0.90637874]\n"
     ]
    }
   ],
   "source": [
    "print(net.forward(np.array([3.,1.])))\n",
    "print(net.forward(np.array([-1.,4.])))\n"
   ]
  },
  {
   "cell_type": "code",
   "execution_count": 33,
   "id": "ec9f1584",
   "metadata": {},
   "outputs": [
    {
     "name": "stdout",
     "output_type": "stream",
     "text": [
      "[[ 2.39772906 -2.39736041]\n",
      " [-2.31759965  2.31921497]]\n"
     ]
    }
   ],
   "source": [
    "print(net.V)"
   ]
  },
  {
   "cell_type": "code",
   "execution_count": null,
   "id": "39a34e5f",
   "metadata": {},
   "outputs": [],
   "source": []
  }
 ],
 "metadata": {
  "kernelspec": {
   "display_name": "Python 3 (ipykernel)",
   "language": "python",
   "name": "python3"
  },
  "language_info": {
   "codemirror_mode": {
    "name": "ipython",
    "version": 3
   },
   "file_extension": ".py",
   "mimetype": "text/x-python",
   "name": "python",
   "nbconvert_exporter": "python",
   "pygments_lexer": "ipython3",
   "version": "3.9.2"
  }
 },
 "nbformat": 4,
 "nbformat_minor": 5
}
